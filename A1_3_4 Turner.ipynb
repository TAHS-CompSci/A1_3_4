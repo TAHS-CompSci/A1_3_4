{
 "cells": [
  {
   "cell_type": "code",
   "execution_count": 1,
   "metadata": {},
   "outputs": [
    {
     "name": "stdout",
     "output_type": "stream",
     "text": [
      "Activating auto-logging. Current session state plus future input saved.\n",
      "Filename       : studentName_1_3_4.log\n",
      "Mode           : backup\n",
      "Output logging : True\n",
      "Raw input log  : True\n",
      "Timestamping   : True\n",
      "State          : active\n"
     ]
    }
   ],
   "source": [
    "%logstart -ort studentName_1_3_4.log\n",
    "# Jane Doe John Smith 1.3.4 IPython log"
   ]
  },
  {
   "cell_type": "code",
   "execution_count": 1,
   "metadata": {},
   "outputs": [],
   "source": [
    "def food_id(food):\n",
    "    '''Returns categorization of food\n",
    "    \n",
    "    food is a string\n",
    "    returns a string of categories\n",
    "    '''\n",
    "    # The data\n",
    "    fruits = ['apple', 'banana', 'orange']\n",
    "    citrus = ['orange']\n",
    "    starchy = ['banana', 'potato']\n",
    "    \n",
    "    # check the category and report\n",
    "    if food in fruits:\n",
    "        if food in citrus:\n",
    "            return 'Citrus, Fruit'\n",
    "        else:\n",
    "            return 'NOT Citrus, Fruit'\n",
    "    else:\n",
    "        if food in starchy:\n",
    "            return 'Starchy, NOT Fruit'\n",
    "        else:\n",
    "            return 'NOT Starchy, NOT Fruit'"
   ]
  },
  {
   "cell_type": "code",
   "execution_count": 2,
   "metadata": {},
   "outputs": [
    {
     "data": {
      "text/plain": [
       "'NOT Citrus, Fruit'"
      ]
     },
     "execution_count": 2,
     "metadata": {},
     "output_type": "execute_result"
    }
   ],
   "source": [
    "food_id('apple')"
   ]
  },
  {
   "cell_type": "code",
   "execution_count": 3,
   "metadata": {},
   "outputs": [],
   "source": [
    "def food_id_test():\n",
    "    ''' Unit test for food_id\n",
    "    returns True if good, returns False and prints error if not\n",
    "    good\n",
    "    '''\n",
    "    works = True\n",
    "    if food_id('orange') != 'Citrus, Fruit':\n",
    "        works = False\n",
    "        print ('orange bug in food id()')\n",
    "    if food_id('banana') != 'NOT citrus, Fruit':\n",
    "        works = False\n",
    "        print ('banana bug in food_id()')\n",
    "        # Add tests so that all lines of code are visited during test\n",
    "        \n",
    "    if works:\n",
    "        print('food_id passed all tests')\n",
    "        return works\n",
    "    "
   ]
  },
  {
   "cell_type": "code",
   "execution_count": 4,
   "metadata": {},
   "outputs": [
    {
     "name": "stdout",
     "output_type": "stream",
     "text": [
      "banana bug in food_id()\n"
     ]
    }
   ],
   "source": [
    "food_id_test()"
   ]
  },
  {
   "cell_type": "code",
   "execution_count": null,
   "metadata": {},
   "outputs": [],
   "source": []
  }
 ],
 "metadata": {
  "kernelspec": {
   "display_name": "Python 3",
   "language": "python",
   "name": "python3"
  },
  "language_info": {
   "codemirror_mode": {
    "name": "ipython",
    "version": 3
   },
   "file_extension": ".py",
   "mimetype": "text/x-python",
   "name": "python",
   "nbconvert_exporter": "python",
   "pygments_lexer": "ipython3",
   "version": "3.7.4"
  }
 },
 "nbformat": 4,
 "nbformat_minor": 2
}
