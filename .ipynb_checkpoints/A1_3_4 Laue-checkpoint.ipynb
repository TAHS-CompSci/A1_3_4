{
 "cells": [
  {
   "cell_type": "code",
   "execution_count": 2,
   "metadata": {},
   "outputs": [
    {
     "ename": "IndentationError",
     "evalue": "unindent does not match any outer indentation level (<tokenize>, line 9)",
     "output_type": "error",
     "traceback": [
      "\u001b[1;36m  File \u001b[1;32m\"<tokenize>\"\u001b[1;36m, line \u001b[1;32m9\u001b[0m\n\u001b[1;33m    Do you like Apple or Android\u001b[0m\n\u001b[1;37m    ^\u001b[0m\n\u001b[1;31mIndentationError\u001b[0m\u001b[1;31m:\u001b[0m unindent does not match any outer indentation level\n"
     ]
    }
   ],
   "source": [
    "\"\"\"\n",
    "Activity 1.3.4 Notes, Questions, and Coding\n",
    "Jesse Laue\n",
    "Going through the lesson and taking notes, answering activity and conclusion questions, and coding.\n",
    "\"\"\"\n",
    "\"\"\"\n",
    "-  Nested Branching => Nesting\n",
    "> Adds additional complexity to a decision structure. \n",
    "\n",
    "- uses for nesting/branching\n",
    "    - quizzes\n",
    "    - multiple choice/outcomes\n",
    "    - storylines\n",
    "    - creating chance\n",
    "    - item drops\n",
    "    \n",
    "- Debugging\n",
    "    - Check to make sure code works\n",
    "    - Process of figuring out what went wrong.\n",
    "        1. code in small segments\n",
    "        2. Test your code\n",
    "            - use print() to make sure you get the input you want.\n",
    "            \n",
    "\n",
    "- Input: the process of bringing user information into your program for some designated use\n",
    " *** Beware of USER DATA!! This is a common attack vector. \n",
    " Python 2.7\n",
    "     input(\"Enter a number:\") => eval(): evaluate a value of expression and turn it into the appropriate number.\n",
    "     raw_input(\"Enter a string: \") => brought in all info as a string\n",
    "     \n",
    " Python 3.x\n",
    "     input(prompt[string]) => all information is a string\\\n",
    "     \n",
    "\n",
    " Casting => temporarily change a values data type.\n",
    " x = 3\n",
    " float(3)\n",
    "out[]: 3.0\n",
    "    str(3)\n",
    "out[]: \"3\" you will not see the quotes\n",
    "    all of the above is temporary!\n",
    "    use a variable to hold the new value\n",
    " x = 3\n",
    " x = (float)3\n",
    " print(x)\n",
    " 3.0\n",
    " type(x)\n",
    " .float\n",
    "\"\"\"\n",
    "                           \n",
    "        "
   ]
  },
  {
   "cell_type": "code",
   "execution_count": null,
   "metadata": {},
   "outputs": [],
   "source": [
    "\"\"\"\n",
    "ACTIVITY AND CONCLUSION QUESTIONS \n",
    "\"\"\""
   ]
  },
  {
   "cell_type": "code",
   "execution_count": null,
   "metadata": {},
   "outputs": [],
   "source": [
    "\"\"\"\n",
    "CODING FOR ACTIVITY\n",
    "\"\"\""
   ]
  }
 ],
 "metadata": {
  "kernelspec": {
   "display_name": "Python 3",
   "language": "python",
   "name": "python3"
  },
  "language_info": {
   "codemirror_mode": {
    "name": "ipython",
    "version": 3
   },
   "file_extension": ".py",
   "mimetype": "text/x-python",
   "name": "python",
   "nbconvert_exporter": "python",
   "pygments_lexer": "ipython3",
   "version": "3.7.4"
  }
 },
 "nbformat": 4,
 "nbformat_minor": 2
}
