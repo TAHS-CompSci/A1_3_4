{
 "cells": [
  {
   "cell_type": "code",
   "execution_count": 1,
   "metadata": {},
   "outputs": [
    {
     "data": {
      "text/plain": [
       "'\\na133- DeMott notes\\nViola DeMott\\nnotes on variables and functions\\n'"
      ]
     },
     "execution_count": 1,
     "metadata": {},
     "output_type": "execute_result"
    }
   ],
   "source": [
    "\"\"\"\n",
    "a133- DeMott notes\n",
    "Viola DeMott\n",
    "notes on variables and functions\n",
    "\"\"\""
   ]
  },
  {
   "cell_type": "markdown",
   "metadata": {},
   "source": [
    "The if–else structures can be nested. The indentation tells the Python® interpreter what blocks of code should be skipped under what conditions."
   ]
  },
  {
   "cell_type": "code",
   "execution_count": 1,
   "metadata": {},
   "outputs": [],
   "source": [
    "def food_id(food):\n",
    "    ''' Returns categorization of food\n",
    "\n",
    "    food is a string\n",
    "    returns a string of categories\n",
    "    '''\n",
    "    # The data\n",
    "    fruits = ['apple', 'banana', 'orange']\n",
    "    citrus = ['orange']\n",
    "    starchy = ['banana', 'potato']\n",
    "\n",
    "    # Check the category and report\n",
    "    if food in fruits:\n",
    "        if food in citrus:\n",
    "            return 'Citrus, Fruit'\n",
    "        else:\n",
    "            return 'NOT Citrus, Fruit'\n",
    "    else:\n",
    "        if food in starchy:\n",
    "            return 'Starchy, NOT Fruit'\n",
    "        else:\n",
    "            return 'NOT Starchy, NOT Fruit'"
   ]
  },
  {
   "cell_type": "code",
   "execution_count": 2,
   "metadata": {},
   "outputs": [
    {
     "data": {
      "text/plain": [
       "'NOT Citrus, Fruit'"
      ]
     },
     "execution_count": 2,
     "metadata": {},
     "output_type": "execute_result"
    }
   ],
   "source": [
    "food_id('apple')"
   ]
  },
  {
   "cell_type": "markdown",
   "metadata": {},
   "source": [
    "Bugs can be difficult to track down and can go unnoticed for years if it is a small, rarely used piece of code in a large program. To lessen the amount of bugs, developers use glass box testing. This means they create a test suit that will run through every block of code. Some programmers write their test suite first, an approach called test-driven design"
   ]
  },
  {
   "cell_type": "code",
   "execution_count": 3,
   "metadata": {},
   "outputs": [],
   "source": [
    "def food_id_test():\n",
    "    ''' Unit test for food_id\n",
    "    returns True if good, returns False and prints error if not\n",
    "    good\n",
    "    '''\n",
    "    works = True\n",
    "    if food_id('orange') != 'Citrus, Fruit':\n",
    "        works = False\n",
    "        print('orange bug in food id()')\n",
    "    if food_id('banana') != 'NOT Citrus, Fruit':\n",
    "        works = False\n",
    "        print('banana bug in food_id()') \n",
    "    # Add tests so that all lines of code are visited during test\n",
    " \n",
    "    if works:\n",
    "        print('food_id passed all tests')\n",
    "        return works"
   ]
  },
  {
   "cell_type": "code",
   "execution_count": 5,
   "metadata": {},
   "outputs": [
    {
     "name": "stdout",
     "output_type": "stream",
     "text": [
      "food_id passed all tests\n"
     ]
    },
    {
     "data": {
      "text/plain": [
       "True"
      ]
     },
     "execution_count": 5,
     "metadata": {},
     "output_type": "execute_result"
    }
   ],
   "source": [
    "food_id_test ()\n"
   ]
  },
  {
   "cell_type": "markdown",
   "metadata": {},
   "source": [
    "A flow chart is another way to represent an algorithm; input and output are in rectangles, and branching decisions are in diamonds. The excercise illustrates the % operator, called the modulo operator, which identifies the remainder after division. As an example, 13 % 4 is 1, since 13/4 is 3 remainder 1"
   ]
  },
  {
   "cell_type": "code",
   "execution_count": 6,
   "metadata": {},
   "outputs": [
    {
     "data": {
      "text/plain": [
       "1"
      ]
     },
     "execution_count": 6,
     "metadata": {},
     "output_type": "execute_result"
    }
   ],
   "source": [
    "13 % 4"
   ]
  },
  {
   "cell_type": "code",
   "execution_count": null,
   "metadata": {},
   "outputs": [],
   "source": [
    "a=raw_input('Give me a number between 5 and 6: ')\n"
   ]
  },
  {
   "cell_type": "markdown",
   "metadata": {},
   "source": [
    "To use numeric values from the input, you have to turn the string into an integer or a float. This will raise an error if the user didn't provide an integer or a float. There are no commands- not covered in this course- that catch the error so that is doensn't continue up to the python interpreter and halt the progra. For now, however, we can live with an error if the user does soemthing unexpected"
   ]
  },
  {
   "cell_type": "code",
   "execution_count": null,
   "metadata": {},
   "outputs": [],
   "source": [
    "b=6\n",
    "a+b"
   ]
  },
  {
   "cell_type": "code",
   "execution_count": 16,
   "metadata": {},
   "outputs": [],
   "source": [
    "from __future__ import print_function # must be first in file\n",
    "import random\n",
    " \n",
    "def guess_once():\n",
    "    secret = random.randint(1, 4)\n",
    "    print('I have a number between 1 and 4.')\n",
    "    guess = int(raw_input('Guess: '))\n",
    "    if guess != secret:\n",
    "        print('Wrong, my number is ', secret, '.', sep='')\n",
    "    else:\n",
    "        print('Right, my number is', guess, end='!\\n')"
   ]
  },
  {
   "cell_type": "code",
   "execution_count": null,
   "metadata": {},
   "outputs": [],
   "source": [
    "guess_once()\n",
    "I have a number between 1 and 4 inclusive.\n",
    "Guess: 3\n",
    "    Right, my number is 3."
   ]
  },
  {
   "cell_type": "code",
   "execution_count": null,
   "metadata": {},
   "outputs": [],
   "source": [
    "guess_once()\n",
    "I have a number between 1 and 4 inclusive.\n",
    "Guess: 3\n",
    "    Wrong, my number is 4."
   ]
  },
  {
   "cell_type": "markdown",
   "metadata": {},
   "source": [
    "To throughly test code, it is necessary to execute all lines of the code at least once. With if-else structures, it helps if you can see the conditionals and make sure that both the if block and else block are executed. Glass box testing is when you can see the code and ensure your tests get into every corner of the code.\n",
    "An if-elif-elif-else structure will always execute 1 block of code. An if-elif-elif structure might execute 0 or 1 blocks of code. If the structure has nested conditions, several blocks of code might execute:\n",
    "\n",
    "if a:\n",
    "    block1\n",
    "    if b:\n",
    "        block2\n",
    "    else:\n",
    "        block3\n",
    "    block5\n",
    "else:\n",
    "    block6\n",
    "\n",
    "Here, there might be one block of code (only block6 if a is False) or three blocks of code (block1, block5, and either block2 or block3 if a is True).  \n",
    "\n",
    "A test suite runs other code several times, providing different input or arguments, to make sure that the code will work as expected for specific test cases that cover a range of possibilities – a range so that all lines of code get tested. "
   ]
  }
 ],
 "metadata": {
  "kernelspec": {
   "display_name": "Python 3",
   "language": "python",
   "name": "python3"
  },
  "language_info": {
   "codemirror_mode": {
    "name": "ipython",
    "version": 3
   },
   "file_extension": ".py",
   "mimetype": "text/x-python",
   "name": "python",
   "nbconvert_exporter": "python",
   "pygments_lexer": "ipython3",
   "version": "3.7.4"
  }
 },
 "nbformat": 4,
 "nbformat_minor": 2
}
