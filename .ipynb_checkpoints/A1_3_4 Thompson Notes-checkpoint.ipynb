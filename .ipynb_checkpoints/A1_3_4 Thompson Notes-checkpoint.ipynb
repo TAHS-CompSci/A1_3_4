{
 "cells": [
  {
   "cell_type": "markdown",
   "metadata": {},
   "source": [
    "terms to know:\n",
    "- glass box testing: Process for evaluating the correctness or effectiveness of a piece of software while examining its algorithmic structure\n",
    "- A software package designed to evaluate the correctness or effectiveness of another software solution\n",
    "- test driven design: a software development process in which developers first create a test suite and then create the code to satisfy the test suite\n",
    "- flow chart: a graphic organizer that can be used to show the procedural pathways within a program\n",
    "\n",
    "flow charts are used to show an algorithm:\n",
    "- diamonds and rectangles used for input and output\n",
    "- branching desisions located in diamond"
   ]
  },
  {
   "cell_type": "code",
   "execution_count": 18,
   "metadata": {
    "scrolled": true
   },
   "outputs": [
    {
     "name": "stdout",
     "output_type": "stream",
     "text": [
      "x is odd\n",
      "x is a multiple of 6\n",
      "x is even\n"
     ]
    }
   ],
   "source": [
    "def f(x):\n",
    "    if x % 2 == 0:\n",
    "        if True:\n",
    "            if x % 3 == 0:\n",
    "                print(\"x is a multiple of 6\")\n",
    "            else:\n",
    "                print(\"x is even\")\n",
    "    if x % 2 != 0:\n",
    "        print(\"x is odd\")\n",
    "\n",
    "f(7)\n",
    "f(12)\n",
    "f(4)"
   ]
  },
  {
   "cell_type": "markdown",
   "metadata": {},
   "source": [
    "Nested Branching (nesting): Adds additional complexity to a desicion structure\n",
    "\n",
    "Terms to know:\n",
    "Input: The process of bringing user information into your program for some designated use\n",
    "Casting: temporarily change a values data type\n",
    "\n",
    "Debugging:\n",
    "- Check that code works \n",
    "- Process of figuring out what went wrong\n",
    "- code in small segments\n",
    "- test code using print() \n",
    "\n",
    "Nesting uses:\n",
    "- Quizzes \n",
    "- Multiple Choice\n",
    "- Item Drops\n",
    "- Storylines \n",
    "\n",
    "* Beware of User Data! This is a common attack vector\n"
   ]
  },
  {
   "cell_type": "markdown",
   "metadata": {},
   "source": [
    "Conclusion \n",
    "1. What is the relationship between if-structures and glass box testing?\n",
    "- I think that they both use boolean logic, the if then for branching, and the glass box for testing. \n",
    "2. Nested if-else structures can contain many blocks of code. How many of those blocks of code might be executed?\n",
    "- Only as many as are needed, once it branched off to an end is when the program ends that.\n",
    "3. What does a test suite do, and why do you think programmers often write test suites first, before they've even written the functions that will be tested?\n",
    "- It tests the effectivness of a function, so that they wont confuse themselves later by having to go through the code. "
   ]
  }
 ],
 "metadata": {
  "kernelspec": {
   "display_name": "Python 3",
   "language": "python",
   "name": "python3"
  },
  "language_info": {
   "codemirror_mode": {
    "name": "ipython",
    "version": 3
   },
   "file_extension": ".py",
   "mimetype": "text/x-python",
   "name": "python",
   "nbconvert_exporter": "python",
   "pygments_lexer": "ipython3",
   "version": "3.7.4"
  }
 },
 "nbformat": 4,
 "nbformat_minor": 2
}
