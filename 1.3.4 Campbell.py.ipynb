{
 "cells": [
  {
   "cell_type": "code",
   "execution_count": 1,
   "metadata": {},
   "outputs": [
    {
     "ename": "SyntaxError",
     "evalue": "invalid syntax (<ipython-input-1-12166d414104>, line 1)",
     "output_type": "error",
     "traceback": [
      "\u001b[1;36m  File \u001b[1;32m\"<ipython-input-1-12166d414104>\"\u001b[1;36m, line \u001b[1;32m1\u001b[0m\n\u001b[1;33m    Nested Branching =} Nested\u001b[0m\n\u001b[1;37m                   ^\u001b[0m\n\u001b[1;31mSyntaxError\u001b[0m\u001b[1;31m:\u001b[0m invalid syntax\n"
     ]
    }
   ],
   "source": [
    "Nested Branching =} Nested\n",
    "^Adds additional complecity to a decision structure\n",
    "if else can be used to create nesting\n",
    "\n",
    "    Example\n",
    "    \n",
    "    if...\n",
    "        if...\n",
    "            if...\n",
    "                if...\n",
    "                elif... [not nescissary]\n",
    "                else...\n",
    "            else...\n",
    "        else...\n",
    "    else...\n",
    "    \n",
    "    use cases: quizes, multiple outcomes,story lines, RNG, creating chance\n",
    "        \n",
    "        debuggig: making sure that something is processing correctly/finding what went wrong\n",
    "            \n",
    "            Tips on debuging: \n",
    "                1:code in small segments\n",
    "                    1b: test said code\n",
    "                        1c:use print\n",
    "        \n",
    "        input: The process of bringing user informatation into your program for some designated use\n",
    "            \n",
    "    *BEWARE OF USER DATA! THIS IS A COMMON ATTACK VECTOR!*\n",
    "in python 2.7\n",
    "    input (\"enter a number\") =} evalcs: evalutae a value of expension and turn in into the appropriate number\n",
    "    \n",
    "    raw_imput (\"enter a string\") =}  Brouoght in all information as a string\n",
    "\n",
    "in python 3\n",
    "    input(prompt[str]) =} information is a string\n",
    "    \n",
    "    casting =} temporily change a values data type\n",
    "        x=3\n",
    "        float(3)\n",
    "        out[]:3.0\n",
    "            str(3)\n",
    "        out[] 3 => you will not see the quotes\n",
    "            **all of the above is tempary**\n",
    "            use a variable to hold the new value\n",
    "            \n",
    "        x=3\n",
    "        x=float(3)\n",
    "        print(x)\n",
    "        3.0\n",
    "        type(x)\n",
    "        float\n",
    "        "
   ]
  },
  {
   "cell_type": "code",
   "execution_count": 2,
   "metadata": {},
   "outputs": [
    {
     "ename": "SyntaxError",
     "evalue": "invalid syntax (<ipython-input-2-8eef9c244fb7>, line 1)",
     "output_type": "error",
     "traceback": [
      "\u001b[1;36m  File \u001b[1;32m\"<ipython-input-2-8eef9c244fb7>\"\u001b[1;36m, line \u001b[1;32m1\u001b[0m\n\u001b[1;33m    Stuff Directly From Activity Book\u001b[0m\n\u001b[1;37m                 ^\u001b[0m\n\u001b[1;31mSyntaxError\u001b[0m\u001b[1;31m:\u001b[0m invalid syntax\n"
     ]
    }
   ],
   "source": [
    "Stuff Directly From Activity Book\n",
    "\n",
    "2:\n",
    "    \n",
    "        \n",
    "        "
   ]
  },
  {
   "cell_type": "code",
   "execution_count": 3,
   "metadata": {},
   "outputs": [],
   "source": [
    "def food_id(food):\n",
    "    ''' Returns categorization of food\n",
    "\n",
    "    food is a string\n",
    "    returns a string of categories\n",
    "    '''\n",
    "    # The data\n",
    "    fruits = ['apple', 'banana', 'orange']\n",
    "    citrus = ['orange']\n",
    "    starchy = ['banana', 'potato']\n",
    "\n",
    "    # Check the category and report\n",
    "    if food in fruits:\n",
    "        if food in citrus:\n",
    "            return 'Citrus, Fruit'\n",
    "        else:\n",
    "            return 'NOT Citrus, Fruit'\n",
    "    else:\n",
    "        if food in starchy:\n",
    "            return 'Starchy, NOT Fruit'\n",
    "        else:\n",
    "            return 'NOT Starchy, NOT Fruit'"
   ]
  },
  {
   "cell_type": "code",
   "execution_count": 4,
   "metadata": {},
   "outputs": [],
   "source": [
    "def food_id_test():\n",
    "    ''' Unit test for food_id\n",
    "    returns True if good, returns False and prints error if not\n",
    "    good\n",
    "    '''\n",
    "    works = True\n",
    "    if food_id('orange') != 'Citrus, Fruit':\n",
    "        works = False\n",
    "        print('orange bug in food id()')\n",
    "    if food_id('banana') != 'NOT Citrus, Fruit':\n",
    "        works = False\n",
    "        print('banana bug in food_id()') \n",
    "    # Add tests so that all lines of code are visited during test\n",
    " \n",
    "    if works:\n",
    "        print('food_id passed all tests')\n",
    "        return works\n"
   ]
  },
  {
   "cell_type": "code",
   "execution_count": 5,
   "metadata": {},
   "outputs": [],
   "source": [
    "import random\n",
    "\n",
    "def guess_once():\n",
    "    secret = random.randint(1, 4)\n",
    "    print('I have a number between 1 and 4.')\n",
    "    guess = int(raw_input('Guess: '))\n",
    "    if guess != secret:\n",
    "        print('Wrong, my number is ', secret, '.', sep='')\n",
    "    else:\n",
    "        print('Right, my number is', guess, end='!\\n')"
   ]
  },
  {
   "cell_type": "code",
   "execution_count": 6,
   "metadata": {},
   "outputs": [
    {
     "ename": "SyntaxError",
     "evalue": "invalid syntax (<ipython-input-6-838bd681f6da>, line 2)",
     "output_type": "error",
     "traceback": [
      "\u001b[1;36m  File \u001b[1;32m\"<ipython-input-6-838bd681f6da>\"\u001b[1;36m, line \u001b[1;32m2\u001b[0m\n\u001b[1;33m    I have a number between 1 and 4 inclusive.\u001b[0m\n\u001b[1;37m         ^\u001b[0m\n\u001b[1;31mSyntaxError\u001b[0m\u001b[1;31m:\u001b[0m invalid syntax\n"
     ]
    }
   ],
   "source": [
    "guess_once()\n",
    "I have a number between 1 and 4 inclusive.\n",
    "Guess: 3\n",
    "Right, my number is 3!"
   ]
  },
  {
   "cell_type": "code",
   "execution_count": 7,
   "metadata": {},
   "outputs": [
    {
     "ename": "SyntaxError",
     "evalue": "invalid syntax (<ipython-input-7-4e9c81715a26>, line 2)",
     "output_type": "error",
     "traceback": [
      "\u001b[1;36m  File \u001b[1;32m\"<ipython-input-7-4e9c81715a26>\"\u001b[1;36m, line \u001b[1;32m2\u001b[0m\n\u001b[1;33m    I have a number between 1 and 4 inclusive.\u001b[0m\n\u001b[1;37m         ^\u001b[0m\n\u001b[1;31mSyntaxError\u001b[0m\u001b[1;31m:\u001b[0m invalid syntax\n"
     ]
    }
   ],
   "source": [
    "guess_once()\n",
    "I have a number between 1 and 4 inclusive.\n",
    "Guess: 3\n",
    "Right, my number is 3!\n",
    "\n",
    "guess_once()\n",
    "I have a number between 1 and 4 inclusive.\n",
    "Guess: 3\n",
    "Wrong, my number is 4."
   ]
  },
  {
   "cell_type": "code",
   "execution_count": 8,
   "metadata": {},
   "outputs": [
    {
     "ename": "SyntaxError",
     "evalue": "invalid syntax (<ipython-input-8-879a753f49b6>, line 2)",
     "output_type": "error",
     "traceback": [
      "\u001b[1;36m  File \u001b[1;32m\"<ipython-input-8-879a753f49b6>\"\u001b[1;36m, line \u001b[1;32m2\u001b[0m\n\u001b[1;33m    I have a number between 1 and 4 inclusive.\u001b[0m\n\u001b[1;37m         ^\u001b[0m\n\u001b[1;31mSyntaxError\u001b[0m\u001b[1;31m:\u001b[0m invalid syntax\n"
     ]
    }
   ],
   "source": [
    "guess_once()\n",
    "I have a number between 1 and 4 inclusive.\n",
    "Guess: 3\n",
    "Too low - my number was 4!       \n",
    "\n",
    "guess_once()\n",
    "I have a number between 1 and 4 inclusive.\n",
    "Guess: 3\n",
    "Too high, my number was 2!       \n",
    "\n",
    "guess_once()\n",
    "I have a number between 1 and 4 inclusive.\n",
    "Guess: 1\n",
    "Right on! I was number 1!"
   ]
  },
  {
   "cell_type": "code",
   "execution_count": null,
   "metadata": {},
   "outputs": [],
   "source": [
    "quiz_decimal(4, 4.1)\n",
    "Type a number between 4 and 4.1: \n",
    "4.5\n",
    "No, 4.5 is greater than 4.1\n",
    "\n",
    "quiz_decimal(4, 4.1)\n",
    "Type a number between 4 and 4.1: \n",
    "4.05\n",
    "Good! 4 < 4.05 < 4.1"
   ]
  }
 ],
 "metadata": {
  "kernelspec": {
   "display_name": "Python 3",
   "language": "python",
   "name": "python3"
  },
  "language_info": {
   "codemirror_mode": {
    "name": "ipython",
    "version": 3
   },
   "file_extension": ".py",
   "mimetype": "text/x-python",
   "name": "python",
   "nbconvert_exporter": "python",
   "pygments_lexer": "ipython3",
   "version": "3.7.4"
  }
 },
 "nbformat": 4,
 "nbformat_minor": 2
}
