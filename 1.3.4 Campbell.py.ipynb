{
 "cells": [
  {
   "cell_type": "code",
   "execution_count": null,
   "metadata": {},
   "outputs": [],
   "source": [
    "Nested Branching =} Nested\n",
    "^Adds additional complecity to a decision structure\n",
    "if else can be used to create nesting\n",
    "\n",
    "    Example\n",
    "    \n",
    "    if...\n",
    "        if...\n",
    "            if...\n",
    "                if...\n",
    "                elif... [not nescissary]\n",
    "                else...\n",
    "            else...\n",
    "        else...\n",
    "    else...\n",
    "    \n",
    "    use cases: quizes, multiple outcomes,story lines, RNG, creating chance\n",
    "        \n",
    "        debuggig: making sure that something is processing correctly/finding what went wrong\n",
    "            \n",
    "            Tips on debuging: \n",
    "                1:code in small segments\n",
    "                    1b: test said code\n",
    "                        1c:use print\n",
    "        \n",
    "        input: The process of bringing user informatation into your program for some designated use"
   ]
  }
 ],
 "metadata": {
  "kernelspec": {
   "display_name": "Python 3",
   "language": "python",
   "name": "python3"
  },
  "language_info": {
   "codemirror_mode": {
    "name": "ipython",
    "version": 3
   },
   "file_extension": ".py",
   "mimetype": "text/x-python",
   "name": "python",
   "nbconvert_exporter": "python",
   "pygments_lexer": "ipython3",
   "version": "3.7.4"
  }
 },
 "nbformat": 4,
 "nbformat_minor": 2
}
