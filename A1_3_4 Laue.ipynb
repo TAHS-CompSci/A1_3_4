{
 "cells": [
  {
   "cell_type": "code",
   "execution_count": 2,
   "metadata": {},
   "outputs": [
    {
     "ename": "IndentationError",
     "evalue": "unindent does not match any outer indentation level (<tokenize>, line 9)",
     "output_type": "error",
     "traceback": [
      "\u001b[1;36m  File \u001b[1;32m\"<tokenize>\"\u001b[1;36m, line \u001b[1;32m9\u001b[0m\n\u001b[1;33m    Do you like Apple or Android\u001b[0m\n\u001b[1;37m    ^\u001b[0m\n\u001b[1;31mIndentationError\u001b[0m\u001b[1;31m:\u001b[0m unindent does not match any outer indentation level\n"
     ]
    }
   ],
   "source": [
    "\"\"\"\n",
    "Activity 1.3.4 Notes, Questions, and Coding\n",
    "Jesse Laue\n",
    "Going through the lesson and taking notes, answering activity and conclusion questions, and coding.\n",
    "\"\"\"\n",
    "\"\"\"\n",
    "-  Nested Branching => Nesting\n",
    "> Adds additional complexity to a decision structure. \n",
    "\n",
    "- uses for nesting/branching\n",
    "    - quizzes\n",
    "    - multiple choice/outcomes\n",
    "    - storylines\n",
    "    - creating chance\n",
    "    - item drops\n",
    "    \n",
    "- Debugging\n",
    "    - Check to make sure code works\n",
    "    - Process of figuring out what went wrong.\n",
    "        1. code in small segments\n",
    "        2. Test your code\n",
    "            - use print() to make sure you get the input you want.\n",
    "            \n",
    "\n",
    "- Input: the process of bringing user information into your program for some designated use\n",
    " *** Beware of USER DATA!! This is a common attack vector. \n",
    " Python 2.7\n",
    "     input(\"Enter a number:\") => eval(): evaluate a value of expression and turn it into the appropriate number.\n",
    "     raw_input(\"Enter a string: \") => brought in all info as a string\n",
    "     \n",
    " Python 3.x\n",
    "     input(prompt[string]) => all information is a string\\\n",
    "     \n",
    "\n",
    " Casting => temporarily change a values data type.\n",
    " x = 3\n",
    " float(3)\n",
    "out[]: 3.0\n",
    "    str(3)\n",
    "out[]: \"3\" you will not see the quotes\n",
    "    all of the above is temporary!\n",
    "    use a variable to hold the new value\n",
    " x = 3\n",
    " x = (float)3\n",
    " print(x)\n",
    " 3.0\n",
    " type(x)\n",
    " .float\n",
    "\"\"\"\n",
    "                           \n",
    "        "
   ]
  },
  {
   "cell_type": "code",
   "execution_count": null,
   "metadata": {},
   "outputs": [],
   "source": [
    "\"\"\"\n",
    "ACTIVITY AND CONCLUSION QUESTIONS \n",
    "\"\"\"\n"
   ]
  },
  {
   "cell_type": "code",
   "execution_count": null,
   "metadata": {},
   "outputs": [],
   "source": [
    "#2 \n",
    "A. Line 17 caused it to return the value in the output.\n",
    "B. \n",
    "    1. Orange\n",
    "    2. Apple\n",
    "    3. Potatoe\n",
    "    4. Crayon\n",
    "C.  Banana is also labeled as a fruit so therefore it will never go to starches first. It first checks to see if the food is a fruit and it was."
   ]
  },
  {
   "cell_type": "code",
   "execution_count": null,
   "metadata": {},
   "outputs": [],
   "source": [
    "#5\n"
   ]
  },
  {
   "cell_type": "code",
   "execution_count": null,
   "metadata": {},
   "outputs": [],
   "source": [
    "\"\"\"\n",
    "CODING FOR ACTIVITY\n",
    "\"\"\""
   ]
  },
  {
   "cell_type": "code",
   "execution_count": 1,
   "metadata": {},
   "outputs": [
    {
     "data": {
      "text/plain": [
       "'NOT Citrus, Fruit'"
      ]
     },
     "execution_count": 1,
     "metadata": {},
     "output_type": "execute_result"
    }
   ],
   "source": [
    "#2\n",
    "def food_id(food):\n",
    "    ''' Returns categorization of food\n",
    "\n",
    "    food is a string\n",
    "    returns a string of categories\n",
    "    '''\n",
    "    # The data\n",
    "    fruits = ['apple', 'banana', 'orange']\n",
    "    citrus = ['orange']\n",
    "    starchy = ['banana', 'potato']\n",
    "\n",
    "    # Check the category and report\n",
    "    if food in fruits:\n",
    "        if food in citrus:\n",
    "            return 'Citrus, Fruit'\n",
    "        else:\n",
    "            return 'NOT Citrus, Fruit'\n",
    "    else:\n",
    "        if food in starchy:\n",
    "            return 'Starchy, NOT Fruit'\n",
    "        else:\n",
    "            return 'NOT Starchy, NOT Fruit'\n",
    "food_id('apple')"
   ]
  },
  {
   "cell_type": "code",
   "execution_count": 4,
   "metadata": {},
   "outputs": [
    {
     "name": "stdout",
     "output_type": "stream",
     "text": [
      "food_id passed all tests\n"
     ]
    },
    {
     "data": {
      "text/plain": [
       "True"
      ]
     },
     "execution_count": 4,
     "metadata": {},
     "output_type": "execute_result"
    }
   ],
   "source": [
    "#3\n",
    "def food_id_test():\n",
    "    ''' Unit test for food_id\n",
    "    returns True if good, returns False and prints error if not\n",
    "    good\n",
    "    '''\n",
    "    works = True\n",
    "    if food_id('orange') != 'Citrus, Fruit':\n",
    "        works = False\n",
    "        print('orange bug in food id()')\n",
    "    if food_id('banana') != 'NOT Citrus, Fruit':\n",
    "        works = False\n",
    "        print('banana bug in food_id()') \n",
    "    # Add tests so that all lines of code are visited during test\n",
    " \n",
    "    if works:\n",
    "        print('food_id passed all tests')\n",
    "        return works \n",
    "food_id_test ()"
   ]
  },
  {
   "cell_type": "code",
   "execution_count": 10,
   "metadata": {},
   "outputs": [
    {
     "ename": "SyntaxError",
     "evalue": "invalid syntax (<ipython-input-10-9b1c20a09651>, line 16)",
     "output_type": "error",
     "traceback": [
      "\u001b[1;36m  File \u001b[1;32m\"<ipython-input-10-9b1c20a09651>\"\u001b[1;36m, line \u001b[1;32m16\u001b[0m\n\u001b[1;33m    def f(x)_test\u001b[0m\n\u001b[1;37m                ^\u001b[0m\n\u001b[1;31mSyntaxError\u001b[0m\u001b[1;31m:\u001b[0m invalid syntax\n"
     ]
    }
   ],
   "source": [
    "#4\n",
    "def f(x):\n",
    "    if int(x)==x:\n",
    "        if x % 2 == 0:\n",
    "            if x % 3 == 0: \n",
    "                print(\"x is a multiple of 6.\")\n",
    "            else: \n",
    "                print(\"x is even.\")\n",
    "        else:\n",
    "            print(\"x is odd.\")\n",
    "    else:\n",
    "        print(\"x is not an integer.\")\n",
    "f(6)\n",
    "#5\n",
    "\n",
    "def f(x)_test\n",
    "    \"\"\"Test for f(x)\n",
    "    returns True if good, returns false and prints error if not working\"\"\"\n",
    "    \n",
    "    works = True\n",
    "    if f(x)\n"
   ]
  },
  {
   "cell_type": "code",
   "execution_count": null,
   "metadata": {},
   "outputs": [],
   "source": []
  }
 ],
 "metadata": {
  "kernelspec": {
   "display_name": "Python 3",
   "language": "python",
   "name": "python3"
  },
  "language_info": {
   "codemirror_mode": {
    "name": "ipython",
    "version": 3
   },
   "file_extension": ".py",
   "mimetype": "text/x-python",
   "name": "python",
   "nbconvert_exporter": "python",
   "pygments_lexer": "ipython3",
   "version": "3.7.4"
  }
 },
 "nbformat": 4,
 "nbformat_minor": 2
}
