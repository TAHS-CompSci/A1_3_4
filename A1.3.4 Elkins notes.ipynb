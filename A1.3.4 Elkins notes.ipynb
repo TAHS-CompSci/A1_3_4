{
 "cells": [
  {
   "cell_type": "code",
   "execution_count": 9,
   "metadata": {},
   "outputs": [
    {
     "data": {
      "text/plain": [
       "'\\nA1.3.4 elkins.py\\nProgrammer:Adam Elkins\\nnested branching \\nadds additonal complexity to descion strucures \\ndebugging\\n    checking to make sure code works \\n    process of figuring out what went wrong \\n    \\n1. code in small segments \\n2. test your code\\n    use print ( ) to make sure you get the output you want \\n\\ninput: the process of brining user information into your programn for some desigined use\\n\\nbeware of user data!!\\nit is a common use of destruction of a program\\n\\npython 3.x\\n    input(prompt[str])=> all information is a string \\n\\ncasting=> temporily changing a value data type\\n\\n'"
      ]
     },
     "execution_count": 9,
     "metadata": {},
     "output_type": "execute_result"
    }
   ],
   "source": [
    "\"\"\"\n",
    "A1.3.4 elkins.py\n",
    "Programmer:Adam Elkins\n",
    "nested branching \n",
    "adds additonal complexity to descion strucures \n",
    "debugging\n",
    "    checking to make sure code works \n",
    "    process of figuring out what went wrong \n",
    "    \n",
    "1. code in small segments \n",
    "2. test your code\n",
    "    use print ( ) to make sure you get the output you want \n",
    "\n",
    "input: the process of brining user information into your programn for some desigined use\n",
    "\n",
    "beware of user data!!\n",
    "it is a common use of destruction of a program\n",
    "\n",
    "python 3.x\n",
    "    input(prompt[str])=> all information is a string \n",
    "\n",
    "casting=> temporily changing a value data type\n",
    "\n",
    "\"\"\""
   ]
  },
  {
   "cell_type": "code",
   "execution_count": 10,
   "metadata": {},
   "outputs": [
    {
     "name": "stdout",
     "output_type": "stream",
     "text": [
      "food_id passed all tests\n"
     ]
    },
    {
     "data": {
      "text/plain": [
       "True"
      ]
     },
     "execution_count": 10,
     "metadata": {},
     "output_type": "execute_result"
    }
   ],
   "source": [
    "\"\"\"\n",
    "A1.3.4 coding.py\n",
    "Programmer:Adam Elkins\n",
    "this is where the code for the activtiy \n",
    "\n",
    "\"\"\"\n",
    "def food_id(food):\n",
    "    ''' Returns categorization of food\n",
    "\n",
    "    food is a string\n",
    "    returns a string of categories\n",
    "    '''\n",
    "    # The data\n",
    "    fruits = ['apple', 'banana', 'orange']\n",
    "    citrus = ['orange']\n",
    "    starchy = ['banana', 'potato']\n",
    "\n",
    "    # Check the category and report\n",
    "    if food in fruits:\n",
    "        if food in citrus:\n",
    "            return 'Citrus, Fruit'\n",
    "        else:\n",
    "            return 'NOT Citrus, Fruit'\n",
    "    else:\n",
    "        if food in starchy:\n",
    "            return 'Starchy, NOT Fruit'\n",
    "        else:\n",
    "            return 'NOT Starchy, NOT Fruit'\n",
    "food_id('apple')\n",
    "\n",
    "def food_id_test():\n",
    "    ''' Unit test for food_id\n",
    "    returns True if good, returns False and prints error if not\n",
    "    good\n",
    "    '''\n",
    "    works = True\n",
    "    if food_id('orange') != 'Citrus, Fruit':\n",
    "        works = False\n",
    "        print('orange bug in food id()')\n",
    "    if food_id('banana') != 'NOT Citrus, Fruit':\n",
    "        works = False\n",
    "        print('banana bug in food_id()') \n",
    "    # Add tests so that all lines of code are visited during test\n",
    " \n",
    "    if works:\n",
    "        print('food_id passed all tests')\n",
    "        return works\n",
    "food_id_test()\n",
    "\n"
   ]
  },
  {
   "cell_type": "code",
   "execution_count": 11,
   "metadata": {},
   "outputs": [],
   "source": [
    "def f(x):\n",
    "    \"\"\"this function creates a flow cart for rectangles\"\"\"\n",
    "    if x==0:\n",
    "        print('it is an integer')\n",
    "    if int(x)==x:\n",
    "        print('it is an integer')\n",
    "        if x % 2 ==0:\n",
    "            if x % 3 ==0:\n",
    "                print('it is a multiple of 6')\n",
    "            else:\n",
    "                ('x is even')\n",
    "        else:\n",
    "            ('x is odd')\n",
    "    else:\n",
    "        print ('x is not an integer')"
   ]
  },
  {
   "cell_type": "code",
   "execution_count": 12,
   "metadata": {},
   "outputs": [
    {
     "name": "stdout",
     "output_type": "stream",
     "text": [
      "Give me a number between 5 and 6: 2\n"
     ]
    }
   ],
   "source": [
    "a = input('Give me a number between 5 and 6: ')\n",
    "b = 6"
   ]
  },
  {
   "cell_type": "code",
   "execution_count": 13,
   "metadata": {},
   "outputs": [],
   "source": [
    "from __future__ import print_function # must be first in file\n",
    "import random\n",
    " \n",
    "def guess_once():\n",
    "    secret = random.randint(1, 4)\n",
    "    print('I have a number between 1 and 4.')\n",
    "    guess = int(input('Guess: '))\n",
    "    if guess != secret:\n",
    "        print('Wrong, my number is ', secret, '.', sep='')\n",
    "    else:\n",
    "        print('Right, my number is', guess, end='!\\n')"
   ]
  },
  {
   "cell_type": "code",
   "execution_count": 14,
   "metadata": {},
   "outputs": [
    {
     "name": "stdout",
     "output_type": "stream",
     "text": [
      "I have a number between 1 and 4.\n",
      "Guess: 5\n",
      "Wrong, my number is 4.\n"
     ]
    }
   ],
   "source": [
    "guess_once()"
   ]
  }
 ],
 "metadata": {
  "kernelspec": {
   "display_name": "Python 3",
   "language": "python",
   "name": "python3"
  },
  "language_info": {
   "codemirror_mode": {
    "name": "ipython",
    "version": 3
   },
   "file_extension": ".py",
   "mimetype": "text/x-python",
   "name": "python",
   "nbconvert_exporter": "python",
   "pygments_lexer": "ipython3",
   "version": "3.7.4"
  }
 },
 "nbformat": 4,
 "nbformat_minor": 2
}
