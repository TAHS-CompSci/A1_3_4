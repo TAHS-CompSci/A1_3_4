{
 "cells": [
  {
   "cell_type": "code",
   "execution_count": null,
   "metadata": {},
   "outputs": [],
   "source": [
    "\"\"\"\n",
    "A1.3.4 elkins.py\n",
    "Programmer:Adam Elkins\n",
    "nested branching \n",
    "adds additonal complexity to descion strucures \n",
    "debugging\n",
    "    checking to make sure code works \n",
    "    process of figuring out what went wrong \n",
    "    \n",
    "1. code in small segments \n",
    "2. test your code\n",
    "    use print ( ) to make sure you get the output you want \n",
    "\n",
    "input: the process of brining user information into your programn for some desigined use\n",
    "\n",
    "beware of user data!!\n",
    "it is a common use of destruction of a program\n",
    "\n",
    "python 3.x\n",
    "    input(prompt[str])=> all information is a string \n",
    "\n",
    "casting=> temporily changing a value data type\n",
    "\n",
    "\n",
    "\n",
    "\n",
    "\"\"\""
   ]
  }
 ],
 "metadata": {
  "kernelspec": {
   "display_name": "Python 3",
   "language": "python",
   "name": "python3"
  },
  "language_info": {
   "codemirror_mode": {
    "name": "ipython",
    "version": 3
   },
   "file_extension": ".py",
   "mimetype": "text/x-python",
   "name": "python",
   "nbconvert_exporter": "python",
   "pygments_lexer": "ipython3",
   "version": "3.7.4"
  }
 },
 "nbformat": 4,
 "nbformat_minor": 2
}
