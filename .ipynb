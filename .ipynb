{
 "cells": [
  {
   "cell_type": "code",
   "execution_count": 8,
   "metadata": {},
   "outputs": [],
   "source": [
    "%logstart -ort studentName_1_3_4.log\n",
    "# Jane Doe John Smith 1.3.4 IPython log"
   ]
  },
  {
   "cell_type": "code",
   "execution_count": 16,
   "metadata": {},
   "outputs": [],
   "source": [
    "def food_id(food):\n",
    "    '''Returns categorization of food\n",
    "    \n",
    "    food is a string\n",
    "    returns a string of categories'''\n",
    "    \n",
    "    \n",
    "    # The data \n",
    "    fruits = ['apple', 'banana', 'orange']\n",
    "    citrus = ['orange']\n",
    "    starchy = ['banana', 'potato']\n",
    "    \n",
    "    # Check the category and report\n",
    "    if food in fruits:\n",
    "        if food in citrus:\n",
    "            return 'Citrus, Fruit'\n",
    "        else: \n",
    "            return 'NOT Citrus, Fruit'\n",
    "    else:\n",
    "        if food in starchy:\n",
    "            return 'Starchy, NOT Fruit'\n",
    "        else:\n",
    "            return 'NOT Starchy, NOT Fruit'"
   ]
  },
  {
   "cell_type": "code",
   "execution_count": 17,
   "metadata": {},
   "outputs": [
    {
     "data": {
      "text/plain": [
       "'NOT Citrus, Fruit'"
      ]
     },
     "execution_count": 17,
     "metadata": {},
     "output_type": "execute_result"
    }
   ],
   "source": [
    "food_id('apple')\n",
    "'NOT Citrus, Fruit'"
   ]
  },
  {
   "cell_type": "code",
   "execution_count": 18,
   "metadata": {},
   "outputs": [],
   "source": [
    "def food_id_test():\n",
    "    '''Unit test for food_id\n",
    "    returns True if good, returns False and rpints error if not \n",
    "    good\n",
    "    '''\n",
    "    works=True\n",
    "    if food_id ('orange') != 'Citrus, Fruit':\n",
    "        works = False\n",
    "        print('orange bug in food id()')\n",
    "    if food_id ('banana') != 'NOT Citrus, Fruit':\n",
    "        works = False\n",
    "        print ('banana bug in food_id()')\n",
    "    # Add tests so that all lines of code are visited during test\n",
    "    \n",
    "    if works:\n",
    "            print('food_id passed all tests')\n",
    "            return works"
   ]
  },
  {
   "cell_type": "code",
   "execution_count": 24,
   "metadata": {},
   "outputs": [
    {
     "name": "stdout",
     "output_type": "stream",
     "text": [
      "food_id passed all tests\n"
     ]
    },
    {
     "data": {
      "text/plain": [
       "True"
      ]
     },
     "execution_count": 24,
     "metadata": {},
     "output_type": "execute_result"
    }
   ],
   "source": [
    "food_id_test()"
   ]
  },
  {
   "cell_type": "code",
   "execution_count": 26,
   "metadata": {},
   "outputs": [],
   "source": [
    "def f(x):\n",
    "    if x==0:\n",
    "        print ('it is an integer')\n",
    "    if int(x)==x:\n",
    "        print('It is an integer')\n",
    "        if x % 2 ==0:\n",
    "            if x % 3==0:\n",
    "                print('it is a multiple of 6')\n",
    "            else:\n",
    "                ('x is even')\n",
    "        else:\n",
    "            ('x is odd')\n",
    "    else:\n",
    "        Print ('x is not an integer')\n",
    "        "
   ]
  },
  {
   "cell_type": "code",
   "execution_count": 27,
   "metadata": {},
   "outputs": [
    {
     "name": "stdout",
     "output_type": "stream",
     "text": [
      "It is an integer\n",
      "it is a multiple of 6\n"
     ]
    }
   ],
   "source": [
    "f(12)"
   ]
  },
  {
   "cell_type": "code",
   "execution_count": 28,
   "metadata": {},
   "outputs": [
    {
     "name": "stdout",
     "output_type": "stream",
     "text": [
      "It is an integer\n"
     ]
    }
   ],
   "source": [
    "f(7)"
   ]
  },
  {
   "cell_type": "code",
   "execution_count": 29,
   "metadata": {},
   "outputs": [
    {
     "name": "stdout",
     "output_type": "stream",
     "text": [
      "It is an integer\n"
     ]
    }
   ],
   "source": [
    "f(19)"
   ]
  },
  {
   "cell_type": "code",
   "execution_count": null,
   "metadata": {},
   "outputs": [],
   "source": []
  }
 ],
 "metadata": {
  "kernelspec": {
   "display_name": "Python 3",
   "language": "python",
   "name": "python3"
  },
  "language_info": {
   "codemirror_mode": {
    "name": "ipython",
    "version": 3
   },
   "file_extension": ".py",
   "mimetype": "text/x-python",
   "name": "python",
   "nbconvert_exporter": "python",
   "pygments_lexer": "ipython3",
   "version": "3.7.4"
  }
 },
 "nbformat": 4,
 "nbformat_minor": 2
}
