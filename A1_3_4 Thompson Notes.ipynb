{
 "cells": [
  {
   "cell_type": "markdown",
   "metadata": {},
   "source": [
    "flow charts are used to show an algorithm:\n",
    "- diamonds and rectangles used for input and output\n",
    "- branching desisions located in diamond"
   ]
  },
  {
   "cell_type": "markdown",
   "metadata": {},
   "source": [
    "Nested Branching (nesting): Adds additional complexity to a desicion structure\n",
    "\n",
    "Terms to know:\n",
    "Input: The process of bringing user information into your program for some designated use\n",
    "Casting: temporarily change a values data type\n",
    "\n",
    "Debugging:\n",
    "- Check that code works \n",
    "- Process of figuring out what went wrong\n",
    "- code in small segments\n",
    "- test code using print() \n",
    "\n",
    "Nesting uses:\n",
    "- Quizzes \n",
    "- Multiple Choice\n",
    "- Item Drops\n",
    "- Storylines \n",
    "\n",
    "* Beware of User Data! This is a common attack vector\n"
   ]
  }
 ],
 "metadata": {
  "kernelspec": {
   "display_name": "Python 3",
   "language": "python",
   "name": "python3"
  },
  "language_info": {
   "codemirror_mode": {
    "name": "ipython",
    "version": 3
   },
   "file_extension": ".py",
   "mimetype": "text/x-python",
   "name": "python",
   "nbconvert_exporter": "python",
   "pygments_lexer": "ipython3",
   "version": "3.7.4"
  }
 },
 "nbformat": 4,
 "nbformat_minor": 2
}
