{
 "cells": [
  {
   "cell_type": "markdown",
   "metadata": {},
   "source": [
    "A1_3_4 Walz\n",
    "Programmer:Gavin Walz\n",
    "Notes for Activity 1_3_4 Nested Branching and Input"
   ]
  },
  {
   "cell_type": "code",
   "execution_count": 1,
   "metadata": {},
   "outputs": [],
   "source": [
    "def food_id(food):\n",
    "    ''' Returns categorization of food\n",
    "\n",
    "    food is a string\n",
    "    returns a string of categories\n",
    "    '''\n",
    "    # The data\n",
    "    fruits = ['apple', 'banana', 'orange']\n",
    "    citrus = ['orange']\n",
    "    starchy = ['banana', 'potato']\n",
    "\n",
    "    # Check the category and report\n",
    "    if food in fruits:\n",
    "        if food in citrus:\n",
    "            return 'Citrus, Fruit'\n",
    "        else:\n",
    "            return 'NOT Citrus, Fruit'\n",
    "    else:\n",
    "        if food in starchy:\n",
    "            return 'Starchy, NOT Fruit'\n",
    "        else:\n",
    "            return 'NOT Starchy, NOT Fruit'"
   ]
  },
  {
   "cell_type": "code",
   "execution_count": 2,
   "metadata": {},
   "outputs": [
    {
     "data": {
      "text/plain": [
       "'NOT Citrus, Fruit'"
      ]
     },
     "execution_count": 2,
     "metadata": {},
     "output_type": "execute_result"
    }
   ],
   "source": [
    "food_id('apple')"
   ]
  },
  {
   "cell_type": "code",
   "execution_count": 3,
   "metadata": {},
   "outputs": [],
   "source": [
    "def food_id_test():\n",
    "    ''' Unit test for food_id\n",
    "    returns True if good, returns False and prints error if not\n",
    "    good\n",
    "    '''\n",
    "    works = True\n",
    "    if food_id('orange') != 'Citrus, Fruit':\n",
    "        works = False\n",
    "        print('orange bug in food id()')\n",
    "    if food_id('banana') != 'NOT Citrus, Fruit':\n",
    "        works = False\n",
    "        print('banana bug in food_id()') \n",
    "    # Add tests so that all lines of code are visited during test\n",
    " \n",
    "    if works:\n",
    "        print('food_id passed all tests')\n",
    "        return works"
   ]
  },
  {
   "cell_type": "code",
   "execution_count": 4,
   "metadata": {},
   "outputs": [
    {
     "name": "stdout",
     "output_type": "stream",
     "text": [
      "food_id passed all tests\n"
     ]
    },
    {
     "data": {
      "text/plain": [
       "True"
      ]
     },
     "execution_count": 4,
     "metadata": {},
     "output_type": "execute_result"
    }
   ],
   "source": [
    "food_id_test()"
   ]
  },
  {
   "cell_type": "code",
   "execution_count": 19,
   "metadata": {},
   "outputs": [
    {
     "name": "stdout",
     "output_type": "stream",
     "text": [
      "Give me a number between 5 and 6: 5.5\n"
     ]
    }
   ],
   "source": [
    "a =input('Give me a number between 5 and 6: ')"
   ]
  },
  {
   "cell_type": "code",
   "execution_count": 20,
   "metadata": {},
   "outputs": [
    {
     "data": {
      "text/plain": [
       "'5.5'"
      ]
     },
     "execution_count": 20,
     "metadata": {},
     "output_type": "execute_result"
    }
   ],
   "source": [
    "a"
   ]
  },
  {
   "cell_type": "code",
   "execution_count": 21,
   "metadata": {},
   "outputs": [
    {
     "data": {
      "text/plain": [
       "str"
      ]
     },
     "execution_count": 21,
     "metadata": {},
     "output_type": "execute_result"
    }
   ],
   "source": [
    "type(a)"
   ]
  },
  {
   "cell_type": "code",
   "execution_count": 40,
   "metadata": {},
   "outputs": [],
   "source": [
    "def f(x):\n",
    "    if type(x)==int :\n",
    "        if x%2==0 :\n",
    "            if x%3==0 :\n",
    "                print (x,'is a multiple of 6')\n",
    "            else:\n",
    "                print(x,'is even')\n",
    "        else:\n",
    "            print (x,'is odd')\n",
    "    else:\n",
    "        print (x,'is not an interger')"
   ]
  },
  {
   "cell_type": "code",
   "execution_count": 42,
   "metadata": {},
   "outputs": [
    {
     "name": "stdout",
     "output_type": "stream",
     "text": [
      "12 is a multiple of 6\n"
     ]
    }
   ],
   "source": [
    "f(12)"
   ]
  },
  {
   "cell_type": "code",
   "execution_count": 43,
   "metadata": {},
   "outputs": [
    {
     "ename": "ValueError",
     "evalue": "invalid literal for int() with base 10: '5.5'",
     "output_type": "error",
     "traceback": [
      "\u001b[1;31m---------------------------------------------------------------------------\u001b[0m",
      "\u001b[1;31mValueError\u001b[0m                                Traceback (most recent call last)",
      "\u001b[1;32m<ipython-input-43-8b2ab3991dae>\u001b[0m in \u001b[0;36m<module>\u001b[1;34m\u001b[0m\n\u001b[1;32m----> 1\u001b[1;33m \u001b[0mint\u001b[0m\u001b[1;33m(\u001b[0m\u001b[0ma\u001b[0m\u001b[1;33m)\u001b[0m\u001b[1;33m\u001b[0m\u001b[1;33m\u001b[0m\u001b[0m\n\u001b[0m",
      "\u001b[1;31mValueError\u001b[0m: invalid literal for int() with base 10: '5.5'"
     ]
    }
   ],
   "source": [
    "int(a)"
   ]
  },
  {
   "cell_type": "code",
   "execution_count": 44,
   "metadata": {},
   "outputs": [
    {
     "data": {
      "text/plain": [
       "5.5"
      ]
     },
     "execution_count": 44,
     "metadata": {},
     "output_type": "execute_result"
    }
   ],
   "source": [
    "float(a)"
   ]
  },
  {
   "cell_type": "code",
   "execution_count": 45,
   "metadata": {},
   "outputs": [
    {
     "data": {
      "text/plain": [
       "5"
      ]
     },
     "execution_count": 45,
     "metadata": {},
     "output_type": "execute_result"
    }
   ],
   "source": [
    "int(float(a))"
   ]
  },
  {
   "cell_type": "code",
   "execution_count": 46,
   "metadata": {},
   "outputs": [],
   "source": [
    "b = 6"
   ]
  },
  {
   "cell_type": "code",
   "execution_count": 47,
   "metadata": {},
   "outputs": [
    {
     "ename": "TypeError",
     "evalue": "can only concatenate str (not \"int\") to str",
     "output_type": "error",
     "traceback": [
      "\u001b[1;31m---------------------------------------------------------------------------\u001b[0m",
      "\u001b[1;31mTypeError\u001b[0m                                 Traceback (most recent call last)",
      "\u001b[1;32m<ipython-input-47-bd58363a63fc>\u001b[0m in \u001b[0;36m<module>\u001b[1;34m\u001b[0m\n\u001b[1;32m----> 1\u001b[1;33m \u001b[0ma\u001b[0m \u001b[1;33m+\u001b[0m \u001b[0mb\u001b[0m\u001b[1;33m\u001b[0m\u001b[1;33m\u001b[0m\u001b[0m\n\u001b[0m",
      "\u001b[1;31mTypeError\u001b[0m: can only concatenate str (not \"int\") to str"
     ]
    }
   ],
   "source": [
    "a + b"
   ]
  },
  {
   "cell_type": "code",
   "execution_count": 48,
   "metadata": {},
   "outputs": [
    {
     "data": {
      "text/plain": [
       "'5.56'"
      ]
     },
     "execution_count": 48,
     "metadata": {},
     "output_type": "execute_result"
    }
   ],
   "source": [
    "a + str(b)"
   ]
  },
  {
   "cell_type": "code",
   "execution_count": 49,
   "metadata": {},
   "outputs": [
    {
     "data": {
      "text/plain": [
       "11.5"
      ]
     },
     "execution_count": 49,
     "metadata": {},
     "output_type": "execute_result"
    }
   ],
   "source": [
    "float(a) + b"
   ]
  },
  {
   "cell_type": "code",
   "execution_count": 52,
   "metadata": {},
   "outputs": [],
   "source": [
    "from __future__ import print_function # must be first in file\n",
    "import random\n",
    " \n",
    "def guess_once():\n",
    "    secret = random.randint(1, 4)\n",
    "    print('I have a number between 1 and 4.')\n",
    "    guess = int(input('Guess: '))\n",
    "    if guess != secret:\n",
    "        print('Wrong, my number is ', secret, '.', sep='')\n",
    "    else:\n",
    "        print('Right, my number is', guess, end='!\\n')"
   ]
  },
  {
   "cell_type": "code",
   "execution_count": 53,
   "metadata": {},
   "outputs": [
    {
     "name": "stdout",
     "output_type": "stream",
     "text": [
      "I have a number between 1 and 4.\n",
      "Guess: 3\n",
      "Right, my number is 3!\n"
     ]
    }
   ],
   "source": [
    "guess_once()"
   ]
  },
  {
   "cell_type": "code",
   "execution_count": 54,
   "metadata": {},
   "outputs": [
    {
     "name": "stdout",
     "output_type": "stream",
     "text": [
      "I have a number between 1 and 4.\n",
      "Guess: 4\n",
      "Wrong, my number is 2.\n"
     ]
    }
   ],
   "source": [
    "guess_once()"
   ]
  },
  {
   "cell_type": "code",
   "execution_count": 5,
   "metadata": {},
   "outputs": [],
   "source": [
    "def quiz_decimal(low, high):\n",
    "    number= input('Type a number between 4 and 4.1')\n",
    "    if (number<'4'):\n",
    "        print ('No,', number,'is less than 4')\n",
    "    else:\n",
    "        if (number>'4.1'):\n",
    "            print ('No,', number,'is greater than 4.1')\n",
    "        else:\n",
    "            print ('Good!', number,'is between 4 adn 4.1')"
   ]
  },
  {
   "cell_type": "code",
   "execution_count": 7,
   "metadata": {},
   "outputs": [
    {
     "name": "stdout",
     "output_type": "stream",
     "text": [
      "Type a number between 4 and 4.14.05\n",
      "Good! 4.05 is between 4 adn 4.1\n"
     ]
    }
   ],
   "source": [
    "quiz_decimal(4, 4.1)"
   ]
  },
  {
   "cell_type": "code",
   "execution_count": null,
   "metadata": {},
   "outputs": [],
   "source": []
  },
  {
   "cell_type": "code",
   "execution_count": null,
   "metadata": {},
   "outputs": [],
   "source": []
  },
  {
   "cell_type": "code",
   "execution_count": null,
   "metadata": {},
   "outputs": [],
   "source": []
  }
 ],
 "metadata": {
  "kernelspec": {
   "display_name": "Python 3",
   "language": "python",
   "name": "python3"
  }
 },
 "nbformat": 4,
 "nbformat_minor": 2
}
